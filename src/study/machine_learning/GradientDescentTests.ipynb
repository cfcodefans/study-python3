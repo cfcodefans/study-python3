{
 "cells": [
  {
   "cell_type": "code",
   "execution_count": null,
   "metadata": {
    "collapsed": false
   },
   "outputs": [],
   "source": [
    "import numpy as np\n",
    "import matplotlib.pyplot as plt\n",
    "\n",
    "plt.rcParams[\"figure.figsize\"] = (10.0, 5.0)"
   ]
  },
  {
   "cell_type": "code",
   "execution_count": 7,
   "metadata": {},
   "outputs": [
    {
     "data": {
      "image/png": "[encoded data removed]",
      "text/plain": [
       "<matplotlib.figure.Figure at 0x87f9390>"
      ]
     },
     "metadata": {},
     "output_type": "display_data"
    },
    {
     "name": "stdout",
     "output_type": "stream",
     "text": [
      "y = \t [[ 0]\n [ 2]\n [ 4]\n [ 6]\n [ 8]\n [10]\n [12]\n [14]\n [16]\n [18]]\n"
     ]
    }
   ],
   "source": [
    "m: int = 10\n",
    "x: np.ndarray = np.array([list(range(0, 10, 1))]).T\n",
    "y: np.ndarray = x * 2\n",
    "gca: plt.Axes = plt.gca()\n",
    "gca.grid(True)\n",
    "gca.set_aspect(1)\n",
    "plt.scatter(x, y, color='#58b970', label='x2')\n",
    "plt.show()\n",
    "print(\"y = \\t\", y)"
   ]
  },
  {
   "cell_type": "code",
   "execution_count": 99,
   "metadata": {},
   "outputs": [
    {
     "name": "stdout",
     "output_type": "stream",
     "text": [
      "b =\t [[0]] (1, 1)\n0 \t loss [-9.] \t b [[ 5.13]]\n10 \t loss [-793.20588605] \t b [[ 277.85938037]]\n20 \t loss [-69908.39751845] \t b [[ 24314.58713697]]\n30 \t loss [-6161305.82178161] \t b [[ 2142767.24690849]]\n40 \t loss [ -5.43020449e+08] \t b [[  1.88850447e+08]]\n50 \t loss [ -4.78585574e+10] \t b [[  1.66441427e+10]]\n60 \t loss [ -4.21796549e+12] \t b [[  1.46691467e+12]]\n70 \t loss [ -3.71746117e+14] \t b [[  1.29285039e+14]]\n80 \t loss [ -3.27634676e+16] \t b [[  1.13944060e+16]]\n90 \t loss [ -2.88757504e+18] \t b [[  1.00423443e+18]]\n"
     ]
    }
   ],
   "source": [
    "b: np.ndarray = np.array([[0]])\n",
    "print(\"b =\\t\", b, b.shape)\n",
    "\n",
    "for i in range(100):\n",
    "    h: np.ndarray = x.dot(b)\n",
    "    loss: np.ndarray = h - y\n",
    "    grad: np.ndarray = x.T.dot(loss) / m\n",
    "    # print(\"grad =\\t\", grad.T)\n",
    "    # print(b)\n",
    "    b = b - 0.09 * grad\n",
    "    if i % 10 == 0:\n",
    "        print(i, \"\\t\", \"loss\", sum(loss) / m, \"\\t\", \"b\", b)\n",
    "    # if i % 10 != 0:\n",
    "    #     continue\n",
    "    # print(\"predict hypothesis =\\t\", h.T)\n",
    "    # print(\"loss =\\t\", loss.T)\n",
    "    # print(\"b = \\t\", b.T)\n",
    "    # plt.scatter(x, y, color='#58b970', label='x2')\n",
    "    # plt.scatter(x, loss, color='black', label='x2')\n",
    "    # plt.show()\n",
    "\n"
   ]
  },
  {
   "cell_type": "code",
   "execution_count": null,
   "metadata": {},
   "outputs": [
    {
     "name": "stdout",
     "output_type": "stream",
     "text": [
      "b =\t [[0]] (1, 1)\n0 \t loss [-9.] \t b 0.01\n100 \t loss [-5.45193393] \t b 0.794516831383\n200 \t loss [-3.3026204] \t b 1.26975393476\n300 \t loss [-2.0006298] \t b 1.55763852232\n400 \t loss [-1.21192239] \t b 1.73203049458\n500 \t loss [-0.73414675] \t b 1.83767199573\n600 \t loss [-0.4447244] \t b 1.901666494\n700 \t loss [-0.26940089] \t b 1.94043246915\n800 \t loss [-0.1631951] \t b 1.96391575084\n900 \t loss [-0.09885876] \t b 1.97814122863\n"
     ]
    }
   ],
   "source": [
    "b: np.ndarray = np.array([[0]])\n",
    "import math\n",
    "\n",
    "print(\"b =\\t\", b, b.shape)\n",
    "for i in range(1000):\n",
    "    loss: np.ndarray = x.dot(b) - y\n",
    "    b = b - 0.02 * sum(loss) / sum(y)\n",
    "    if i % 100 == 0:\n",
    "        print(i, \"\\t\", \"loss\", sum(loss) / m, \"\\t\", \"b\", sum(b)[0])\n",
    "    if math.isclose(sum(b)[0], 2):\n",
    "        print(i, \"\\t\", \"loss\", sum(loss) / m, \"\\t\", \"b\", sum(b)[0])\n",
    "        break\n"
   ]
  },
  {
   "cell_type": "code",
   "execution_count": null,
   "metadata": {},
   "outputs": [],
   "source": []
  }
 ],
 "metadata": {
  "kernelspec": {
   "display_name": "Python 2",
   "language": "python",
   "name": "python2"
  },
  "language_info": {
   "codemirror_mode": {
    "name": "ipython",
    "version": 2
   },
   "file_extension": ".py",
   "mimetype": "text/x-python",
   "name": "python",
   "nbconvert_exporter": "python",
   "pygments_lexer": "ipython2",
   "version": "2.7.6"
  }
 },
 "nbformat": 4,
 "nbformat_minor": 0
}
