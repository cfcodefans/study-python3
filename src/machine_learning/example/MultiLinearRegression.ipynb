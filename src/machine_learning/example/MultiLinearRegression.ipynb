{
 "cells": [
  {
   "cell_type": "code",
   "execution_count": 9,
   "metadata": {
    "collapsed": true
   },
   "outputs": [
    {
     "name": "stdout",
     "output_type": "stream",
     "text": [
      "(1000, 3)\n"
     ]
    },
    {
     "data": {
      "text/html": [
       "<div>\n",
       "<style scoped>\n",
       "    .dataframe tbody tr th:only-of-type {\n",
       "        vertical-align: middle;\n",
       "    }\n",
       "\n",
       "    .dataframe tbody tr th {\n",
       "        vertical-align: top;\n",
       "    }\n",
       "\n",
       "    .dataframe thead th {\n",
       "        text-align: right;\n",
       "    }\n",
       "</style>\n",
       "<table border=\"1\" class=\"dataframe\">\n",
       "  <thead>\n",
       "    <tr style=\"text-align: right;\">\n",
       "      <th></th>\n",
       "      <th>Math</th>\n",
       "      <th>Reading</th>\n",
       "      <th>Writing</th>\n",
       "    </tr>\n",
       "  </thead>\n",
       "  <tbody>\n",
       "    <tr>\n",
       "      <th>0</th>\n",
       "      <td>48</td>\n",
       "      <td>68</td>\n",
       "      <td>63</td>\n",
       "    </tr>\n",
       "    <tr>\n",
       "      <th>1</th>\n",
       "      <td>62</td>\n",
       "      <td>81</td>\n",
       "      <td>72</td>\n",
       "    </tr>\n",
       "    <tr>\n",
       "      <th>2</th>\n",
       "      <td>79</td>\n",
       "      <td>80</td>\n",
       "      <td>78</td>\n",
       "    </tr>\n",
       "    <tr>\n",
       "      <th>3</th>\n",
       "      <td>76</td>\n",
       "      <td>83</td>\n",
       "      <td>79</td>\n",
       "    </tr>\n",
       "    <tr>\n",
       "      <th>4</th>\n",
       "      <td>59</td>\n",
       "      <td>64</td>\n",
       "      <td>62</td>\n",
       "    </tr>\n",
       "  </tbody>\n",
       "</table>\n",
       "</div>"
      ],
      "text/plain": [
       "<div>\n",
       "<style scoped>\n",
       "    .dataframe tbody tr th:only-of-type {\n",
       "        vertical-align: middle;\n",
       "    }\n",
       "\n",
       "    .dataframe tbody tr th {\n",
       "        vertical-align: top;\n",
       "    }\n",
       "\n",
       "    .dataframe thead th {\n",
       "        text-align: right;\n",
       "    }\n",
       "</style>\n",
       "<table border=\"1\" class=\"dataframe\">\n",
       "  <thead>\n",
       "    <tr style=\"text-align: right;\">\n",
       "      <th></th>\n",
       "      <th>Math</th>\n",
       "      <th>Reading</th>\n",
       "      <th>Writing</th>\n",
       "    </tr>\n",
       "  </thead>\n",
       "  <tbody>\n",
       "    <tr>\n",
       "      <th>0</th>\n",
       "      <td>48</td>\n",
       "      <td>68</td>\n",
       "      <td>63</td>\n",
       "    </tr>\n",
       "    <tr>\n",
       "      <th>1</th>\n",
       "      <td>62</td>\n",
       "      <td>81</td>\n",
       "      <td>72</td>\n",
       "    </tr>\n",
       "    <tr>\n",
       "      <th>2</th>\n",
       "      <td>79</td>\n",
       "      <td>80</td>\n",
       "      <td>78</td>\n",
       "    </tr>\n",
       "    <tr>\n",
       "      <th>3</th>\n",
       "      <td>76</td>\n",
       "      <td>83</td>\n",
       "      <td>79</td>\n",
       "    </tr>\n",
       "    <tr>\n",
       "      <th>4</th>\n",
       "      <td>59</td>\n",
       "      <td>64</td>\n",
       "      <td>62</td>\n",
       "    </tr>\n",
       "  </tbody>\n",
       "</table>\n",
       "</div>"
      ]
     },
     "execution_count": 9,
     "metadata": {},
     "output_type": "execute_result"
    }
   ],
   "source": [
    "% matplotlib inline\n",
    "import numpy as np\n",
    "import pandas as pd\n",
    "import matplotlib.pyplot as plt\n",
    "\n",
    "plt.rcParams[\"figure.figsize\"] = (20.0, 10.0)\n",
    "from mpl_toolkits.mplot3d import Axes3D\n",
    "\n",
    "data:pd.DataFrame = pd.read_csv(\"d:/data/student.csv\")\n",
    "print(data.shape)\n",
    "data.head()"
   ]
  },
  {
   "cell_type": "code",
   "execution_count": 10,
   "metadata": {},
   "outputs": [],
   "source": [
    "math: np.ndarray = data[\"Math\"].values\n",
    "read: np.ndarray = data[\"Reading\"].values\n",
    "write: np.ndarray = data[\"Writing\"].values\n",
    "\n",
    "#Ploting the scores as scatter plot\n",
    "fig: plt.Figure = plt.figure()\n",
    "ax: Axes3D = Axes3D(fig)\n",
    "ax.scatter(math, read, write, color=\"#ef1234\")\n",
    "plt.show()"
   ]
  },
  {
   "cell_type": "code",
   "execution_count": 28,
   "metadata": {},
   "outputs": [
    {
     "data": {
      "text/plain": [
       "array([[  1.,  48.,  68.],\n       [  1.,  62.,  81.],\n       [  1.,  79.,  80.]])"
      ]
     },
     "execution_count": 28,
     "metadata": {},
     "output_type": "execute_result"
    }
   ],
   "source": [
    "m: int = len(math)\n",
    "x0: np.ndarray = np.ones(m)\n",
    "X: np.ndarray = np.array([x0, math, read])[0:3].T\n",
    "X[0:3]"
   ]
  },
  {
   "cell_type": "code",
   "execution_count": 29,
   "metadata": {},
   "outputs": [
    {
     "data": {
      "text/plain": [
       "array([0, 0, 0])"
      ]
     },
     "execution_count": 29,
     "metadata": {},
     "output_type": "execute_result"
    }
   ],
   "source": [
    "#Initial Coefficients\n",
    "B: np.ndarray = np.array([0] * 3)\n",
    "Y: np.ndarray = np.array(write)[0:3]\n",
    "alpha: float = 0.0001\n",
    "B"
   ]
  },
  {
   "cell_type": "code",
   "execution_count": 15,
   "metadata": {},
   "outputs": [
    {
     "name": "stdout",
     "output_type": "stream",
     "text": [
      "2470.11\n"
     ]
    }
   ],
   "source": [
    "def cost_function(X: np.ndarray, Y: np.ndarray, B: np.ndarray)-> float:\n",
    "    m: int = len(Y)\n",
    "    J: float = np.sum((X.dot(B) - Y) ** 2) / (2 * m)\n",
    "    return J\n"
   ]
  },
  {
   "cell_type": "code",
   "execution_count": 16,
   "metadata": {},
   "outputs": [
    {
     "name": "stdout",
     "output_type": "stream",
     "text": [
      "2470.11\n"
     ]
    }
   ],
   "source": [
    "inital_cost:float = cost_function(X, Y, B)\n",
    "print(inital_cost)"
   ]
  },
  {
   "cell_type": "code",
   "execution_count": 27,
   "metadata": {},
   "outputs": [
    {
     "data": {
      "text/plain": [
       "array([ 0.,  0.,  0.,  0.,  0.])"
      ]
     },
     "execution_count": 27,
     "metadata": {},
     "output_type": "execute_result"
    }
   ],
   "source": [
    "X[0:5].dot(B)"
   ]
  },
  {
   "cell_type": "markdown",
   "metadata": {},
   "source": [
    ""
   ]
  },
  {
   "cell_type": "markdown",
   "metadata": {},
   "source": [
    "Hypothesis: hβ(x)=βTx\n",
    "\n",
    "Loss: (hβ(x)−y)\n",
    "\n",
    "Gradient: (hβ(x)−y)xj\n",
    "\n",
    "Gradient Descent Updation: βj:=βj−α(hβ(x)−y)xj)\n"
   ]
  },
  {
   "cell_type": "code",
   "execution_count": 23,
   "metadata": {},
   "outputs": [],
   "source": [
    "from typing import *\n",
    "\n",
    "def gradient_descent(X: np.ndarray,\n",
    "                     Y: np.ndarray,\n",
    "                     B: np.ndarray,\n",
    "                     alpha: float,\n",
    "                     iterations: int)-> (np.ndarray, List[float]):\n",
    "\n",
    "    cost_history: List[float] = [0] * iterations\n",
    "    m: int = len(Y)\n",
    "    for iteration in range(iterations):\n",
    "        # Hypothesis values\n",
    "        h: np.ndarray = X.dot(B)\n",
    "        # Difference b/w Hypothesis and Actual Y\n",
    "        loss: np.ndarray = h - Y\n",
    "        #Gradient calcutation\n",
    "        gradient: float = X.T.dot(loss) / m\n",
    "        #Changing values of B using Gradient\n",
    "        B = B - alpha * gradient\n",
    "        #New Cost Value\n",
    "        cost: float = cost_function(X, Y, B)\n",
    "        cost_history[iteration] = cost\n",
    "\n",
    "    return B, cost_history\n"
   ]
  },
  {
   "cell_type": "code",
   "execution_count": 24,
   "metadata": {},
   "outputs": [
    {
     "name": "stdout",
     "output_type": "stream",
     "text": [
      "[-0.47889172  0.09137252  0.90144884]\n10.4751234735\n"
     ]
    }
   ],
   "source": [
    "#100000 iterations\n",
    "newB, cost_history = gradient_descent(X, Y, B, alpha, 100000)\n",
    "#New values of B\n",
    "print(newB)\n",
    "#Final cost of new B\n",
    "print(cost_history[-1])"
   ]
  },
  {
   "cell_type": "code",
   "execution_count": 26,
   "metadata": {},
   "outputs": [
    {
     "name": "stdout",
     "output_type": "stream",
     "text": [
      "4.57714397273\n0.909722327306\n"
     ]
    }
   ],
   "source": [
    "def rmse(Y: np.ndarray, Y_pred: np.ndarray)-> float:\n",
    "    rmse: float = np.sqrt(sum((Y - Y_pred) ** 2) / len(Y))\n",
    "    return rmse\n",
    "\n",
    "def r2_score(Y, Y_pred)-> float:\n",
    "    mean_y: float = np.mean(Y)\n",
    "    ss_tot: float = sum((Y - mean_y) ** 2)\n",
    "    ss_res: float = sum((Y - Y_pred) ** 2)\n",
    "    r2: float = 1 - (ss_res / ss_tot)\n",
    "    return r2\n",
    "\n",
    "Y_pred: np.ndarray = X.dot(newB)\n",
    "print(rmse(Y, Y_pred))\n",
    "print(r2_score(Y, Y_pred))\n"
   ]
  },
  {
   "cell_type": "code",
   "execution_count": null,
   "metadata": {},
   "outputs": [],
   "source": []
  }
 ],
 "metadata": {
  "kernelspec": {
   "display_name": "Python 2",
   "language": "python",
   "name": "python2"
  },
  "language_info": {
   "codemirror_mode": {
    "name": "ipython",
    "version": 2
   },
   "file_extension": ".py",
   "mimetype": "text/x-python",
   "name": "python",
   "nbconvert_exporter": "python",
   "pygments_lexer": "ipython2",
   "version": "2.7.6"
  }
 },
 "nbformat": 4,
 "nbformat_minor": 0
}
